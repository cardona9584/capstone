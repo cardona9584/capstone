{
 "cells": [
  {
   "cell_type": "markdown",
   "metadata": {
    "collapsed": true
   },
   "source": [
    "# Capstone Project - The Battle of Neighborhoods\n",
    "\n",
    "\n",
    "## Business Problem section\n",
    "Today construction companies need to choose carefully the places where they plan to build, because today people have a lot of options to choose, so it is importan that a construction company atracts their clients by giving them a strategic location, so what if we can create a model to choose the better location for a living building, I wiil do it for a medium size city like Medellin, Colombia. It is needed that you know that Medellin is divided bu 16Th districs, so i will recopile dates from Foursquare API to determine wich is the best distric to based in types and amenities closed to each one.\n",
    "\n",
    "\n",
    "## Data section\n",
    "Distric location will be obtaine by manual google search, and to explore across different venues according to the presence of amenities and essential facilities, we will access data through FourSquare API interface and arrange them as a dataframe for visualization"
   ]
  },
  {
   "cell_type": "code",
   "execution_count": null,
   "metadata": {},
   "outputs": [],
   "source": []
  }
 ],
 "metadata": {
  "kernelspec": {
   "display_name": "Python 3.6",
   "language": "python",
   "name": "python3"
  },
  "language_info": {
   "codemirror_mode": {
    "name": "ipython",
    "version": 3
   },
   "file_extension": ".py",
   "mimetype": "text/x-python",
   "name": "python",
   "nbconvert_exporter": "python",
   "pygments_lexer": "ipython3",
   "version": "3.6.9"
  }
 },
 "nbformat": 4,
 "nbformat_minor": 1
}
